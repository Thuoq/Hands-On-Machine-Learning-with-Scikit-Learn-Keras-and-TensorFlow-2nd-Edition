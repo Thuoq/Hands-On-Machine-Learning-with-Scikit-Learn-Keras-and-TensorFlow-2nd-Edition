{
 "cells": [
  {
   "cell_type": "markdown",
   "id": "according-recall",
   "metadata": {},
   "source": [
    "Cho đến nay, chúng tôi coi các mô hình Học máy và các thuật toán đào tạo của chúng hầu hết giống như hộp đen. Nếu bạn đã xem qua một số bài tập trong các chương trước, bạn có thể ngạc nhiên bởi số lượng bạn có thể hoàn thành mà không cần biết bất kỳ điều gì về những gì tiềm ẩn: bạn đã tối ưu hóa hệ thống hồi quy, bạn cải thiện bộ phân loại hình ảnh chữ số và thậm chí bạn còn đã xây dựng một bộ phân loại thư rác từ đầu, tất cả những điều này mà không biết chúng thực sự hoạt động như thế nào. Thật vậy, trong nhiều trường hợp, bạn không thực sự cần biết chi tiết triển khai"
   ]
  },
  {
   "cell_type": "markdown",
   "id": "rational-toner",
   "metadata": {},
   "source": [
    "Tuy nhiên, để có 1 cái nhìn tốt về cái gì nó đã làm sẽ giúp bạn nhanh chóng có một mô hình thích hơn, một thuật toán Algorihsm để sử dụng và 1 set `hyperparameters` cho nhiệm vụ của bạn. Hiểu những cái gì ở đằng sâu tầng, cũng có thể hỗ trợ bạn **debug** vấn đề và xử lý những lỗi phân tích một cách hiệu quả. Cuối cùng hầu hết tất cả những topics chúng ta thảo luận ở trong chapter nàuy là rất cần tiếu hiểu, và xây dưng, và trianing DeepLearning trong PART II của cuốn sách này\n",
    "\n",
    "Trong chương này chúgn ta sẽ bắt đầu tìm kiếm Một mô hình tuyến tính, một trong những model đơn giản. Chúng ta sẽ thảo luật nó với 2 cách khác nhau để train"
   ]
  },
  {
   "cell_type": "markdown",
   "id": "bearing-consistency",
   "metadata": {},
   "source": [
    "Sử dụng “`closed from`”trực tiếp tính toán trực tiếp các tham số mô hình phù hợp nhất với mô hình với tập huấn luyện (tức là các tham số mô hình tối thiểu hóa hàm chi phí trên tập huấn luyện”"
   ]
  },
  {
   "cell_type": "markdown",
   "id": "quick-waters",
   "metadata": {},
   "source": [
    "Sử dụng phương pháp tối ưu hóa lặp lại được gọi là Gradient Descent (GD) để điều chỉnh dần các tham số mô hình để giảm thiểu hàm chi phí trên tập huấn luyện, cuối cùng hội tụ về cùng một tập tham số như phương pháp đầu tiên. Chúng tôi sẽ xem xét một số biến thể của Gradient Descent mà chúng tôi sẽ sử dụng lặp đi lặp lại khi nghiên cứu mạng nơ-ron trong ”"
   ]
  },
  {
   "cell_type": "markdown",
   "id": "incredible-narrow",
   "metadata": {},
   "source": [
    "Tiếp theo, chúng ta sẽ xem xét Hồi quy đa thức, một mô hình phức tạp hơn có thể phù hợp với các tập dữ liệu phi tuyến. Vì mô hình này có nhiều tham số hơn Hồi quy tuyến tính, nên nó dễ bị trang bị quá nhiều dữ liệu huấn luyện, vì vậy chúng ta sẽ xem xét cách phát hiện xem đây có phải là trường hợp hay không bằng cách sử dụng các đường cong học tập và sau đó chúng ta sẽ xem xét một số kỹ thuật chính quy có thể giảm nguy cơ trang bị quá nhiều bộ đào tạo. ”"
   ]
  },
  {
   "cell_type": "markdown",
   "id": "tracked-bunch",
   "metadata": {},
   "source": [
    "và cuối cùng chúng ta sẽ nhìn 2 model cơ bản thường được sử dụng trong **phân loại** là: Logistic Tuyến tính và Sofmax Tuyến tính"
   ]
  },
  {
   "cell_type": "markdown",
   "id": "encouraging-cliff",
   "metadata": {},
   "source": [
    "### Linear Regiression (Hồi quy Tuyến TÍnh)"
   ]
  },
  {
   "cell_type": "markdown",
   "id": "united-scholar",
   "metadata": {},
   "source": [
    "Trong Chương 1 chúng ta đã thấy một phương trình đơn giản về satisfaction: \n",
    "    `life_satisfcation = 0 + 01 x  GDP_per_capita`"
   ]
  },
  {
   "cell_type": "markdown",
   "id": "sudden-mixture",
   "metadata": {},
   "source": [
    "Model này là 1 tuyến tính function có 1 inpuy features là GDP_per_caipat, và `0 và 01` là tham số \n"
   ]
  },
  {
   "cell_type": "markdown",
   "id": "organic-venue",
   "metadata": {},
   "source": [
    "Nói chung hơn , 1 mô hình tuyến tính  đưa ra dự đoán bằng cách tính đơn giản những tổng trọng số tính năng, Cộng với một hằng số được gọi là thuật ngữ `bias term` (còn được gọi là thuật ngữ chặn)\""
   ]
  },
  {
   "cell_type": "markdown",
   "id": "native-brake",
   "metadata": {},
   "source": [
    "Linear Regression Model Prediction \n",
    "\n",
    "**y = a + a1x1 + a2x2 + anxn**\n",
    "trong phương trình trên: \n",
    "\n",
    "**y** là **y là dự đoán giá trị**\n",
    "\n",
    "**n** là số tính năng đặc trưng \n",
    "\n",
    "**xi** là những tính năng giá trị\n",
    "\n",
    "**a, ai ,a**:  là những tham số của mô hình "
   ]
  },
  {
   "cell_type": "markdown",
   "id": "vanilla-exclusive",
   "metadata": {},
   "source": [
    "Điều này có thể được viết ngắn gọn hơn nhiều bằng cách sử dụng hình thức vector hóa, như được hiển thị dưới đây "
   ]
  },
  {
   "cell_type": "markdown",
   "id": "thirty-blast",
   "metadata": {},
   "source": [
    "y = h0(x) = 0 x \n",
    "\n",
    "0: là tham số của mô hình vector, bao gồm bias-term và các trọng số của tính năng \n",
    "\n",
    "\n",
    "x: là vec tở đặng trưng bao gồm x -> xn x0 luôn bàng 1\n",
    "\n"
   ]
  },
  {
   "cell_type": "markdown",
   "id": "based-projector",
   "metadata": {},
   "source": [
    "Vậy đó là **Linear Regression** model- nhưng làm như thê nào để train nó. Chà, hãy nhớ lại rằng đào tạo một mô hình có nghĩa là thiết lập các thông số của nó để mô hình phù hợp nhất với việc đào tạo. Vì mục đích này, chúng ta cần một thước đo để biết được model fit data tốt hay sấu. Trong chương 2 chúng ta nhìn thất rất nhiều hiệu xuất chung để đo được mô hình tuyến tính là . `Root Mean Square Eorrr **RMSE**`. Vì vậ để huấn luyện một Hồi quy Tuyến Tính model, chúng t cần tìm giá trị của 0 rằng nó nhỏ nhất trong RMSSE. Trong thực tế,  việc giảm thiểu sai số trung bình bình phương (MSE) đơn giản hơn RMSE và nó dẫn đến kết quả tương tự (vì giá trị tối thiểu hóa một hàm cũng giảm thiểu căn bậc hai của nó)”"
   ]
  },
  {
   "cell_type": "markdown",
   "id": "numerous-bridge",
   "metadata": {},
   "source": [
    "The MSE của hồi quy tuến tính là h0 trong 1 huấn luyện trên tập X được tính bằng công thức : \n",
    "\n",
    "**MSE (X,h0) = 1/m = E(i=1 -> m) của (0.T x(i) - y(i))^ 2.** \n"
   ]
  },
  {
   "cell_type": "markdown",
   "id": "naval-situation",
   "metadata": {},
   "source": [
    "### The Normal Equation (Phương trình chuẩn)"
   ]
  },
  {
   "cell_type": "markdown",
   "id": "hairy-gates",
   "metadata": {},
   "source": [
    "“Để tìm giá trị của θ mà hàm chi phí tối thiểu hóa, có một giải pháp dạng đóng — nói cách khác, một phương trình toán học cho kết quả trực tiếp. Đây được gọi là phương trình chuẩn"
   ]
  },
  {
   "cell_type": "markdown",
   "id": "informational-turner",
   "metadata": {},
   "source": [
    "θ = (X^T.X)^-1. (X^T.y)\n",
    "\n",
    "θ là giá trị của 0 nhỏ nhất trong cost func,\n",
    "\n",
    "y là vector gaget từ y(1) -> y(m)\n",
    "\n"
   ]
  },
  {
   "cell_type": "code",
   "execution_count": 2,
   "id": "further-capital",
   "metadata": {},
   "outputs": [],
   "source": [
    "import numpy as np\n",
    "X = 2 * np.random.rand(100,1)"
   ]
  },
  {
   "cell_type": "code",
   "execution_count": 3,
   "id": "unexpected-biodiversity",
   "metadata": {},
   "outputs": [],
   "source": [
    "y = 4 + 3*X + np.random.randn(100,1)"
   ]
  },
  {
   "cell_type": "markdown",
   "id": "strong-serve",
   "metadata": {},
   "source": [
    "để tính θ sử dụng Normal Equation. Sẽ sử dụng `inv()` func từ Python, để tính ma trận đảo ngược và .dot() để tính matrix nhân với nhau "
   ]
  },
  {
   "cell_type": "code",
   "execution_count": 4,
   "id": "elder-danger",
   "metadata": {},
   "outputs": [],
   "source": [
    "X_b = np.c_[np.ones((100,1)),X]"
   ]
  },
  {
   "cell_type": "code",
   "execution_count": 5,
   "id": "advisory-healthcare",
   "metadata": {},
   "outputs": [],
   "source": [
    "theta_best = np.linalg.inv(X_b.T.dot(X_b)).dot(X_b.T).dot(y)"
   ]
  },
  {
   "cell_type": "code",
   "execution_count": 6,
   "id": "alike-nation",
   "metadata": {},
   "outputs": [
    {
     "data": {
      "text/plain": [
       "array([[4.09298071],\n",
       "       [2.99289608]])"
      ]
     },
     "execution_count": 6,
     "metadata": {},
     "output_type": "execute_result"
    }
   ],
   "source": [
    "theta_best\n"
   ]
  },
  {
   "cell_type": "markdown",
   "id": "military-client",
   "metadata": {},
   "source": [
    "Chúng tôi hi vọng để theta 0 = 4 và the ta 1.  3 thay vì 00 = 24.28, và 01 ==2.777"
   ]
  },
  {
   "cell_type": "code",
   "execution_count": 7,
   "id": "former-recognition",
   "metadata": {},
   "outputs": [],
   "source": [
    "#Bây giờ để dự đoán using the ta\n",
    "X_new = np.array([[0],[2]])"
   ]
  },
  {
   "cell_type": "code",
   "execution_count": 8,
   "id": "integral-sperm",
   "metadata": {},
   "outputs": [
    {
     "data": {
      "text/plain": [
       "array([[0],\n",
       "       [2]])"
      ]
     },
     "execution_count": 8,
     "metadata": {},
     "output_type": "execute_result"
    }
   ],
   "source": [
    "X_new"
   ]
  },
  {
   "cell_type": "code",
   "execution_count": 9,
   "id": "subsequent-rebecca",
   "metadata": {},
   "outputs": [],
   "source": [
    "X_new_b = np.c_[np.ones((2,1)),X_new]"
   ]
  },
  {
   "cell_type": "code",
   "execution_count": 10,
   "id": "macro-inspection",
   "metadata": {},
   "outputs": [],
   "source": [
    "y_predict = X_new_b.dot(theta_best)"
   ]
  },
  {
   "cell_type": "code",
   "execution_count": 11,
   "id": "human-embassy",
   "metadata": {},
   "outputs": [
    {
     "data": {
      "text/plain": [
       "array([[ 4.09298071],\n",
       "       [10.07877287]])"
      ]
     },
     "execution_count": 11,
     "metadata": {},
     "output_type": "execute_result"
    }
   ],
   "source": [
    "y_predict"
   ]
  },
  {
   "cell_type": "code",
   "execution_count": 12,
   "id": "honest-syracuse",
   "metadata": {},
   "outputs": [
    {
     "data": {
      "image/png": "[encoded data removed]",
      "text/plain": [
       "<Figure size 432x288 with 1 Axes>"
      ]
     },
     "metadata": {
      "needs_background": "light"
     },
     "output_type": "display_data"
    }
   ],
   "source": [
    "import matplotlib.pyplot as plt\n",
    "plt.plot(X_new,y_predict,'r-')\n",
    "plt.plot(X,y,\"b.\")\n",
    "plt.axis([0,2,0,15])\n",
    "plt.show()"
   ]
  },
  {
   "cell_type": "markdown",
   "id": "smooth-tolerance",
   "metadata": {},
   "source": [
    "Sử lý Linear Regression sử dung Scikit-Learn rất đơn giản"
   ]
  },
  {
   "cell_type": "code",
   "execution_count": 13,
   "id": "alien-stanford",
   "metadata": {},
   "outputs": [
    {
     "data": {
      "text/plain": [
       "LinearRegression()"
      ]
     },
     "execution_count": 13,
     "metadata": {},
     "output_type": "execute_result"
    }
   ],
   "source": [
    "from sklearn.linear_model import LinearRegression\n",
    "lin_reg = LinearRegression()\n",
    "lin_reg.fit(X,y)"
   ]
  },
  {
   "cell_type": "code",
   "execution_count": 14,
   "id": "ranging-edgar",
   "metadata": {},
   "outputs": [
    {
     "data": {
      "text/plain": [
       "(array([4.09298071]), array([[2.99289608]]))"
      ]
     },
     "execution_count": 14,
     "metadata": {},
     "output_type": "execute_result"
    }
   ],
   "source": [
    "lin_reg.intercept_,lin_reg.coef_"
   ]
  },
  {
   "cell_type": "markdown",
   "id": "spoken-ebony",
   "metadata": {},
   "source": [
    "The **Linear Regression** class dựa trên `scipy.linalg.lstsq()` fnc"
   ]
  },
  {
   "cell_type": "code",
   "execution_count": 15,
   "id": "cooked-mounting",
   "metadata": {},
   "outputs": [],
   "source": [
    "theta_best_svd, residuals,rank,s = np.linalg.lstsq(X_b,y,rcond=1e-6)"
   ]
  },
  {
   "cell_type": "code",
   "execution_count": 16,
   "id": "strong-cincinnati",
   "metadata": {},
   "outputs": [
    {
     "data": {
      "text/plain": [
       "array([[4.09298071],\n",
       "       [2.99289608]])"
      ]
     },
     "execution_count": 16,
     "metadata": {},
     "output_type": "execute_result"
    }
   ],
   "source": [
    "theta_best_svd"
   ]
  },
  {
   "cell_type": "markdown",
   "id": "going-dominican",
   "metadata": {},
   "source": [
    "Đây là function để tính deta = X+.y cái nơi X + là giả nghịc đảo của X bạn có thể sử dụng `np.linalg.pinv()` để tính giả nghịc đạo 1 cách trực tiếp"
   ]
  },
  {
   "cell_type": "code",
   "execution_count": 17,
   "id": "sexual-harbor",
   "metadata": {},
   "outputs": [
    {
     "data": {
      "text/plain": [
       "array([[4.09298071],\n",
       "       [2.99289608]])"
      ]
     },
     "execution_count": 17,
     "metadata": {},
     "output_type": "execute_result"
    }
   ],
   "source": [
    "np.linalg.pinv(X_b).dot(y)"
   ]
  },
  {
   "cell_type": "markdown",
   "id": "turned-apartment",
   "metadata": {},
   "source": [
    "### Computational Complexity (TÍnh phức tạp)"
   ]
  },
  {
   "cell_type": "markdown",
   "id": "worse-deployment",
   "metadata": {},
   "source": [
    "The normal Equataion tính nghịc đảo của X^T.X cái là (X+1)(x+1) ma trận cái nơi n là số của những tính năng. Tính phức tạo của nghịch đảo ma trix như là khoảm O(n^3) -> O(n^8),Tùy thuộc vào việc thực hiện. Nói cách khác, nếu bạn nhân đôi số lượng tính năng, bạn sẽ nhân thời gian tính toán gần đúng . 2^2x4 =5x3"
   ]
  },
  {
   "cell_type": "markdown",
   "id": "aquatic-objective",
   "metadata": {},
   "source": [
    "cách tiếp cận SVD sử dụng bởi Scikit-Learns LinearGression class khoảng O(n^2). nếu bạn double the numbers của fetures, bạn sẽ nhân cái tính khoảng lên 4\n",
    "\n",
    "\n",
    "“Ngoài ra, khi bạn đã đào tạo mô hình Hồi quy tuyến tính của mình (sử dụng Phương trình chuẩn hoặc bất kỳ thuật toán nào khác), các dự đoán sẽ diễn ra rất nhanh: độ phức tạp tính toán là tuyến tính liên quan đến cả số trường hợp bạn muốn đưa ra dự đoán và số lượng đặc trưng. Nói cách khác, việc đưa ra dự đoán trên gấp đôi số trường hợp (hoặc gấp đôi số đối tượng) sẽ tốn nhiều thời gian hơn gấp đôi.\n",
    "Bây giờ chúng ta sẽ xem xét một cách rất khác để đào tạo mô hình Hồi quy tuyến tính, phù hợp hơn cho các trường hợp có một số lượng lớn các tính năng hoặc quá nhiều phiên bản đào tạo để phù hợp với bộ nhớ. ”"
   ]
  },
  {
   "cell_type": "markdown",
   "id": "labeled-creator",
   "metadata": {},
   "source": [
    "## Gradient Descent "
   ]
  },
  {
   "cell_type": "markdown",
   "id": "humanitarian-england",
   "metadata": {},
   "source": [
    "Gradient Descent là một thuật toán tối ưu hóa chung có khả năng tìm ra các giải pháp tối ưu cho một loạt các vấn đề. Ý tưởng chung của Gradient Descent là điều chỉnh các tham số lặp đi lặp lại để giảm thiểu hàm chi phí. ”"
   ]
  },
  {
   "cell_type": "markdown",
   "id": "improving-asset",
   "metadata": {},
   "source": [
    "Giả sử bạn đang lạc vào vùng núi trong màn sương dày đặc, và bạn chỉ có thể cảm nhận được độ dốc của mặt đất dưới chân mình. Một chiến lược tốt để xuống đáy thung lũng nhanh chóng là xuống dốc theo hướng có độ dốc lớn nhất. Đây chính xác là những gì Gradient Descent làm: nó đo độ dốc cục bộ của hàm lỗi liên quan đến vectơ tham số θ và nó đi theo hướng gradient giảm dần. Khi gradient bằng 0, bạn đã đạt đến mức tối thiểu! ”"
   ]
  },
  {
   "cell_type": "markdown",
   "id": "compact-jewelry",
   "metadata": {},
   "source": [
    "Cụ thể, bạn bắt đầu bằng cách điền θ với các giá trị ngẫu nhiên (đây được gọi là khởi tạo ngẫu nhiên). Sau đó, bạn cải thiện nó dần dần, thực hiện từng bước một, mỗi bước cố gắng giảm hàm chi phí (ví dụ: MSE), cho đến khi thuật toán hội tụ ở mức tối thiểu ”"
   ]
  },
  {
   "cell_type": "markdown",
   "id": "contained-terrain",
   "metadata": {},
   "source": [
    "Một quan trọng của tham số trong Gradient Descent là kích thước của các bước, xác định bởi *learning rate hyperparameter*. Nếu learning rate to small thì thuật toán sẽ đi nhiều rất nhiều m, nó sẽ làm mất rất nhiều thời gian "
   ]
  },
  {
   "cell_type": "markdown",
   "id": "fantastic-attribute",
   "metadata": {},
   "source": [
    "Mặt khác, nếu the *learning rate* quá cao, bạn có thể nhảy hảy qua thung lũng và kết thúc ở phía bên kia, thậm chí có thể cao hơn bạn trước đâ. Đây có thể làm thuật toán phân ra với nhiều nhiều giá trị, và khoong tìm được good solution"
   ]
  },
  {
   "cell_type": "markdown",
   "id": "considered-chair",
   "metadata": {},
   "source": [
    "Cuối cùng, không phải tất cả các chức năng chi phí đều trông giống như những chiếc bát đẹp và thông thường. Có thể có các lỗ hổng, rặng núi, cao nguyên và tất cả các loại địa hình bất thường, khiến cho việc hội tụ trở nên khó khăn ở mức tối thiểu. Hình 4-6 cho thấy hai thách thức chính với Gradient Descent. Nếu quá trình khởi tạo ngẫu nhiên bắt đầu thuật toán ở bên trái, thì nó sẽ hội tụ về mức tối thiểu cục bộ, không tốt bằng mức tối thiểu toàn cục. Nếu nó bắt đầu ở bên phải, thì sẽ mất một thời gian rất dài để vượt qua cao nguyên. Và nếu bạn dừng lại quá sớm, bạn sẽ không bao giờ đạt được mức **global minium**"
   ]
  },
  {
   "cell_type": "markdown",
   "id": "determined-shape",
   "metadata": {},
   "source": [
    "May mắn thay, hàm chi phí MSE cho mô hình Hồi quy tuyến tính là một hàm lồi, có nghĩa là nếu bạn chọn bất kỳ hai điểm nào trên đường cong, đoạn thẳng nối chúng sẽ không bao giờ cắt qua đường cong. Điều này ngụ ý rằng không có cực tiểu cục bộ, chỉ có một cực tiểu toàn cục. Nó cũng là một hàm liên tục với độ dốc không bao giờ thay đổi đột ngột.3 Hai sự kiện này có một hệ quả lớn: Gradient Descent được đảm bảo tiếp cận tùy ý đóng mức tối thiểu toàn cục (nếu bạn đợi đủ lâu và nếu tỷ lệ học không quá cao)"
   ]
  },
  {
   "cell_type": "markdown",
   "id": "fifty-dublin",
   "metadata": {},
   "source": [
    "Có hình dạng của một cái bát, nhưng nó có thể là một cái bát dài nếu các đặc điểm có tỷ lệ rất khác nhau\""
   ]
  },
  {
   "cell_type": "markdown",
   "id": "broadband-forum",
   "metadata": {},
   "source": [
    "Như bạn có thể thấy, ở bên trái, thuật toán Gradient Descent đi thẳng về phía tối thiểu, do đó đạt được nó nhanh chóng, trong khi ở bên phải nó đầu tiên đi theo hướng gần như trực giao với hướng của mức tối thiểu toàn cầu và nó kết thúc bằng một hành quân xuống một thung lũng gần như bằng phẳng. Cuối cùng nó sẽ đạt mức tối thiểu, nhưng sẽ mất nhiều thời gian"
   ]
  },
  {
   "cell_type": "markdown",
   "id": "above-stock",
   "metadata": {},
   "source": [
    "Sơ đồ này cũng minh họa thực tế là đào tạo một mô hình có nghĩa là tìm kiếm sự kết hợp của các tham số mô hình để giảm thiểu hàm chi phí (trên tập hợp đào tạo). Đó là tìm kiếm trong không gian tham số của mô hình: mô hình càng có nhiều tham số thì không gian này càng có nhiều kích thước và việc tìm kiếm càng khó hơn: tìm kiếm cây kim trong đống cỏ 300 chiều phức tạp hơn nhiều so với trong 3 chiều. May mắn thay, vì hàm chi phí là lồi trong trường hợp Hồi quy tuyến tính, nên kim chỉ đơn giản là ở đáy bát"
   ]
  },
  {
   "cell_type": "markdown",
   "id": "divided-effects",
   "metadata": {},
   "source": [
    "### Batch Gradient Descent"
   ]
  },
  {
   "cell_type": "markdown",
   "id": "radical-hindu",
   "metadata": {},
   "source": [
    "Để triển khai Gradient Descent, bạn cần tính toán gradient của hàm chi phí liên quan đến từng tham số mô hình θj. Nói cách khác, bạn cần tính toán hàm chi phí sẽ thay đổi bao nhiêu nếu bạn thay đổi θj chỉ một chút. Đây được gọi là đạo hàm riêng. Nó giống như hỏi \"Độ dốc của ngọn núi dưới chân tôi là bao nhiêu nếu tôi quay mặt về hướng đông?\" và sau đó hỏi cùng một câu hỏi quay mặt về hướng bắc (và cứ tiếp tục như vậy đối với tất cả các chiều không gian khác, nếu bạn có thể tưởng tượng một vũ trụ có nhiều hơn ba chiều"
   ]
  },
  {
   "cell_type": "markdown",
   "id": "buried-supervisor",
   "metadata": {},
   "source": [
    "tính toán đạo hàm riêng của hàm chi phí liên quan đến tham số ”"
   ]
  },
  {
   "cell_type": "code",
   "execution_count": 18,
   "id": "understanding-dubai",
   "metadata": {},
   "outputs": [
    {
     "data": {
      "text/html": [
       "<img src=\"./ĐHR-cosfnc.png\"/>"
      ],
      "text/plain": [
       "<IPython.core.display.Image object>"
      ]
     },
     "execution_count": 18,
     "metadata": {},
     "output_type": "execute_result"
    }
   ],
   "source": [
    "from IPython.display import Image\n",
    "Image(url=\"./ĐHR-cosfnc.png\")\n",
    "\n"
   ]
  },
  {
   "cell_type": "markdown",
   "id": "sweet-editing",
   "metadata": {},
   "source": [
    "Thay vì tính riêng lẻ từng phần, chúng ta có thể tính tất cả các chúng.\n",
    "\n",
    "Để tính tất cả trong 1 đi, Vector bao gồm các phần của hàm chi phí"
   ]
  },
  {
   "cell_type": "code",
   "execution_count": 19,
   "id": "abroad-tribune",
   "metadata": {},
   "outputs": [
    {
     "data": {
      "text/html": [
       "<img src=\"./Images/4-6.png\"/>"
      ],
      "text/plain": [
       "<IPython.core.display.Image object>"
      ]
     },
     "execution_count": 19,
     "metadata": {},
     "output_type": "execute_result"
    }
   ],
   "source": [
    "\n",
    "Image(url=\"./Images/4-6.png\")"
   ]
  },
  {
   "cell_type": "markdown",
   "id": "vocal-married",
   "metadata": {},
   "source": [
    "tính toán trên toàn bộ tập huấn luyện X, tại mỗi bước Gradient Descent! Đây là lý do tại sao thuật toán được gọi là Batch Gradient Descent: nó sử dụng toàn bộ loạt dữ liệu huấn luyện ở mỗi bước (trên thực tế, Full Gradient Descent có lẽ sẽ là một cái tên hay hơn). Kết quả là nó rất chậm trên các tập huấn luyện rất lớn (nhưng chúng ta sẽ sớm thấy các thuật toán Gradient Descent nhanh hơn nhiều). Tuy nhiên, Gradient Descent quy mô tốt với số lượng các tính năng; đào tạo một mô hình Hồi quy tuyến tính khi có hàng trăm nghìn tính năng bằng cách sử dụng Gradient Descent nhanh hơn nhiều so với việc sử dụng phương trình bình thường hoặc phân rã SVD. ”"
   ]
  },
  {
   "cell_type": "markdown",
   "id": "uniform-contact",
   "metadata": {},
   "source": [
    "Sau khi bạn có vectơ gradient hướng lên trên, chỉ cần đi theo hướng ngược lại để xuống dốc"
   ]
  },
  {
   "cell_type": "code",
   "execution_count": 20,
   "id": "devoted-framing",
   "metadata": {},
   "outputs": [
    {
     "data": {
      "text/html": [
       "<img src=\"./Images/Gradient-Descent.png\"/>"
      ],
      "text/plain": [
       "<IPython.core.display.Image object>"
      ]
     },
     "execution_count": 20,
     "metadata": {},
     "output_type": "execute_result"
    }
   ],
   "source": [
    "Image(url=\"./Images/Gradient-Descent.png\")"
   ]
  },
  {
   "cell_type": "code",
   "execution_count": 21,
   "id": "promising-yorkshire",
   "metadata": {},
   "outputs": [],
   "source": [
    "eta = .1  # learning rate\n",
    "n_iterations = 1000\n",
    "m = 100\n",
    "theta = np.random.randn(2,1) # random initialization\n",
    "for iterations in range(n_iterations):\n",
    "    gradients = 2/m * X_b.T.dot(X_b.dot(theta)-y)\n",
    "    theta = theta - eta*gradients"
   ]
  },
  {
   "cell_type": "code",
   "execution_count": 22,
   "id": "irish-maine",
   "metadata": {},
   "outputs": [
    {
     "data": {
      "text/plain": [
       "array([[4.09298071],\n",
       "       [2.99289608]])"
      ]
     },
     "execution_count": 22,
     "metadata": {},
     "output_type": "execute_result"
    }
   ],
   "source": [
    "theta"
   ]
  },
  {
   "cell_type": "markdown",
   "id": "painted-china",
   "metadata": {},
   "source": [
    "Bạn có thể tự hỏi làm thế nào để thiết lập số lần lặp lại. Nếu nó quá thấp, bạn sẽ vẫn còn rất xa với giải pháp tối ưu khi thuật toán dừng lại; nhưng nếu cao quá thì bạn sẽ lãng phí thời gian trong khi thông số mô hình không thay đổi nữa. Một giải pháp đơn giản là đặt một số lượng rất lớn các lần lặp nhưng làm gián đoạn thuật toán khi vectơ gradient trở nên nhỏ bé — nghĩa là, khi định mức của nó trở nên nhỏ hơn một số nhỏ ϵ (được gọi là dung sai) —vì điều này xảy ra khi Gradient Descent có (gần như) đạt mức tối thiểu. ”"
   ]
  },
  {
   "cell_type": "markdown",
   "id": "above-douglas",
   "metadata": {},
   "source": [
    "Khi hàm chi phí lồi và độ dốc của nó không thay đổi đột ngột (như trường hợp của hàm chi phí MSE), Batch Gradient Descent với tốc độ học cố định cuối cùng sẽ hội tụ đến giải pháp tối ưu, nhưng bạn có thể phải đợi một thời gian. : có thể mất O (1 / ϵ) lần lặp để đạt mức tối ưu trong phạm vi ϵ, tùy thuộc vào hình dạng của hàm chi phí. Nếu bạn chia dung sai cho 10 để có lời giải chính xác hơn, thì thuật toán có thể phải chạy lâu hơn khoảng 10 lần ”."
   ]
  },
  {
   "cell_type": "markdown",
   "id": "dirty-contents",
   "metadata": {},
   "source": [
    "### Stochastic Gradient Descent"
   ]
  },
  {
   "cell_type": "markdown",
   "id": "hydraulic-berlin",
   "metadata": {},
   "source": [
    "Vấn đề chính với **Batch Gradient Descent** là sự thật rằng sử dụng tất cả tập huấn luyện dể tính toán gradient tại tất cả các bước, Nó có thể làm rất chậm khi tập dữ liệu lớn. Ở cực ngược lại, Stochastic Gradient Descent lấy 1 random bất kỳ ở tập huấn luệt và đặt mỗi bước tính dựa trên 1 nhiều instances.Rõ ràng làm việc với các instance riêng biệt ở một thời điểm khiến algorithms phát trển nhanh hơn bởi vì nó có ít  dữ liệu xử lý tại thời điểm lặp. Nó cũng làm nó có thể huấn luyện trên một tập huấn luyện lớn."
   ]
  },
  {
   "cell_type": "markdown",
   "id": "dominican-selling",
   "metadata": {},
   "source": [
    "Mặt khác, do tính chất ngẫu nhiên (tức là ngẫu nhiên) của nó, thuật toán này ít thường xuyên hơn nhiều so với Batch Gradient Descent: thay vì giảm nhẹ nhàng cho đến khi nó đạt đến mức tối thiểu, hàm chi phí sẽ bật lên và xuống, chỉ giảm trên Trung bình cộng. Theo thời gian, nó sẽ kết thúc rất gần với mức tối thiểu, nhưng khi đến đó, nó sẽ tiếp tục bật lên, không bao giờ lắng xuống (xem Hình 4-9). Vì vậy, một khi thuật toán dừng, các giá trị tham số cuối cùng là tốt, nhưng không tối ưu"
   ]
  },
  {
   "cell_type": "markdown",
   "id": "capital-floor",
   "metadata": {},
   "source": [
    "### Mini-Batch Gradient Descent "
   ]
  },
  {
   "cell_type": "markdown",
   "id": "peripheral-backup",
   "metadata": {},
   "source": [
    "The last Gradient Descent Algorithms chúng ta sẽ nhìn  vào là `Mini-batch Gradient Descent`. Nó rất đơn giản để hiểu một làm bạn biết về  **Batch** và **Stochastic Gradient Descent** ở mỗi bưới thay vì tính toán độ dốc dựa trên tất cả tập huấn luyện hoặc từng 1 cá thể, thì Mini-batch sẽ tính gradients trên random sets của các cáe thể gọi là. `mini-batches`. Cái lợi chính của việc **Mini-batch GD** hơn thằng `Stochastic GD` là bạn có tể lấy được hiệu suất từ phần cứng , đặc biệt là GPU"
   ]
  },
  {
   "cell_type": "markdown",
   "id": "mineral-edward",
   "metadata": {},
   "source": [
    "Tiến trình của thuật toán trong không gian tham số ít thất thường hơn so với Stochastic GD, đặc biệt là với các lô nhỏ khá lớn. Do đó, Mini-batch GD sẽ đi vòng quanh mức tối thiểu gần hơn một chút so với Stochastic GD — nhưng có thể khó thoát khỏi cực tiểu cục bộ hơn (trong trường hợp các vấn đề gặp phải cực tiểu cục bộ, không giống như Hồi quy tuyến tính ). Hình 4-11 cho thấy các đường dẫn được thực hiện bởi ba thuật toán Gradient Descent trong không gian tham số trong quá trình huấn luyện. Tất cả chúng đều đạt gần mức tối thiểu, nhưng con đường của Batch GD thực sự dừng lại ở mức tối thiểu, trong khi cả Stochastic GD và Mini-batch GD tiếp tục đi vòng quanh. Tuy nhiên, đừng quên rằng Batch GD cần rất nhiều thời gian để thực hiện từng bước và Stochastic GD và Mini-batch GD cũng sẽ đạt mức tối thiểu nếu bạn sử dụng một lịch trình học tập tốt."
   ]
  },
  {
   "cell_type": "markdown",
   "id": "soviet-chicago",
   "metadata": {},
   "source": [
    "## Polynomial Regression"
   ]
  },
  {
   "cell_type": "markdown",
   "id": "perfect-electricity",
   "metadata": {},
   "source": [
    "Điều gì sẽ xảy ra với dữ liệu nó khó kawn hơn 1 đường thẳng, đáng ngạc nhiên bạn có thể sử dụng mô hình tuyến tính để `fit()` nonlinear data. 1 cách đơn giả để là điều đó là thêm, cải tiến nhũng tính năng nnhư mới, và huấn luyện 1 mô hình tuyến tính, trên tính năng mở rông. Kỹ thuật này được gọi là `Polynomial Regression.`"
   ]
  },
  {
   "cell_type": "code",
   "execution_count": 23,
   "id": "adverse-porter",
   "metadata": {},
   "outputs": [],
   "source": [
    "m = 100\n",
    "X  = 6 * np.random.rand(m,1) - 3. \n",
    "y = 0.5 * X **2 + 2 + np.random.randn(m,1)"
   ]
  },
  {
   "cell_type": "markdown",
   "id": "textile-interest",
   "metadata": {},
   "source": [
    "Rõ ràng, một đường thẳng sẽ không bao giờ phù hợp với dữ liệu này. Vì vậy, hãy sử dụng lớp Scikit-Learn’s PolynomialFeatures để biến đổi dữ liệu đào tạo của chúng tôi, thêm bình phương (đa thức bậc hai) của mỗi đối tượng trong nhóm đào tạo làm tính năng mới (trong trường hợp này chỉ có một tính năng): ”"
   ]
  },
  {
   "cell_type": "code",
   "execution_count": 24,
   "id": "molecular-canada",
   "metadata": {},
   "outputs": [],
   "source": [
    "from sklearn.preprocessing import PolynomialFeatures\n",
    "poly_features = PolynomialFeatures(degree = 2,include_bias=False)\n",
    "X_poly = poly_features.fit_transform(X)\n"
   ]
  },
  {
   "cell_type": "code",
   "execution_count": 25,
   "id": "exterior-valley",
   "metadata": {},
   "outputs": [
    {
     "data": {
      "text/plain": [
       "array([0.25817987])"
      ]
     },
     "execution_count": 25,
     "metadata": {},
     "output_type": "execute_result"
    }
   ],
   "source": [
    "X[0]"
   ]
  },
  {
   "cell_type": "code",
   "execution_count": 26,
   "id": "empirical-corpus",
   "metadata": {},
   "outputs": [
    {
     "data": {
      "text/plain": [
       "array([0.25817987, 0.06665685])"
      ]
     },
     "execution_count": 26,
     "metadata": {},
     "output_type": "execute_result"
    }
   ],
   "source": [
    "X_poly[0]"
   ]
  },
  {
   "cell_type": "code",
   "execution_count": 27,
   "id": "numeric-squad",
   "metadata": {},
   "outputs": [],
   "source": [
    "lin_reg = LinearRegression()"
   ]
  },
  {
   "cell_type": "code",
   "execution_count": 28,
   "id": "piano-charger",
   "metadata": {},
   "outputs": [
    {
     "data": {
      "text/plain": [
       "LinearRegression()"
      ]
     },
     "execution_count": 28,
     "metadata": {},
     "output_type": "execute_result"
    }
   ],
   "source": [
    "lin_reg.fit(X_poly,y)"
   ]
  },
  {
   "cell_type": "code",
   "execution_count": 29,
   "id": "radio-netscape",
   "metadata": {},
   "outputs": [
    {
     "data": {
      "text/plain": [
       "(array([1.70540381]), array([[0.09164149, 0.57468639]]))"
      ]
     },
     "execution_count": 29,
     "metadata": {},
     "output_type": "execute_result"
    }
   ],
   "source": [
    "lin_reg.intercept_ , lin_reg.coef_"
   ]
  },
  {
   "cell_type": "markdown",
   "id": "frozen-dream",
   "metadata": {},
   "source": [
    "Lưu ý rằng khi có nhiều đối tượng, Hồi quy đa thức có khả năng tìm kiếm mối quan hệ giữa các đối tượng (đây là điều mà một mô hình Hồi quy tuyến tính đơn thuần không thể làm được). Điều này có thể thực hiện được là do Tính năng đa thức cũng thêm tất cả các tổ hợp tính năng ở mức độ nhất định. Ví dụ: nếu có hai đối tượng a và b, Các đối tượng đa thức có bậc = 3 sẽ không chỉ thêm các đối tượng địa lý ”"
   ]
  },
  {
   "cell_type": "code",
   "execution_count": 30,
   "id": "legislative-satellite",
   "metadata": {},
   "outputs": [
    {
     "data": {
      "text/html": [
       "<img src=\"./Images/PolynomialFeatures.png\"/>"
      ],
      "text/plain": [
       "<IPython.core.display.Image object>"
      ]
     },
     "execution_count": 30,
     "metadata": {},
     "output_type": "execute_result"
    }
   ],
   "source": [
    "Image(url=\"./Images/PolynomialFeatures.png\")"
   ]
  },
  {
   "cell_type": "markdown",
   "id": "bigger-venezuela",
   "metadata": {},
   "source": [
    "### Learning Curves "
   ]
  },
  {
   "cell_type": "markdown",
   "id": "excessive-patrick",
   "metadata": {},
   "source": [
    "Nếu bạn thực hiện Hồi quy đa thức mức độ cao, bạn có thể sẽ phù hợp với dữ liệu đào tạo hơn nhiều so với Hồi quy tuyến tính đơn giản. Ví dụ, Hình 4-14 áp dụng mô hình đa thức 300 bậc cho dữ liệu huấn luyện trước đó và so sánh kết quả với mô hình tuyến tính thuần túy và mô hình bậc hai (đa thức bậc hai). Lưu ý cách mô hình đa thức 300 độ lắc lư xung quanh để đến gần nhất có thể với các trường hợp huấn luyện"
   ]
  },
  {
   "cell_type": "markdown",
   "id": "every-image",
   "metadata": {},
   "source": [
    "“This high-degree Polynomial Regression model is severely overfitting the training data, while the linear model is underfitting it. The model that will generalize best in this case is the quadratic model, which makes sense because the data was generated using a quadratic model. But in general you won’t know what function generated the data, so how can you decide how complex your model should be? How can you tell that your model is overfitting or underfitting the data?\n",
    "\n",
    "\n",
    "In Chapter 2 you used cross-validation to get an estimate of a model’s generalization performance. If a model performs well on the training data but generalizes poorly according to the cross-validation metrics, then your model is overfitting. If it performs poorly on both, then it is underfitting. This is one way to tell when a model is too simple or too complex.”\n",
    "\n",
    " "
   ]
  },
  {
   "cell_type": "markdown",
   "id": "pleased-alpha",
   "metadata": {},
   "source": [
    "Một cách khác để nói là nhìn vào *learning curves*, Đây là các biểu đồ về hiệu suất của mô hình trên tập huấn luyện và tập xác thực như một hàm của kích thước tập huấn luyện. "
   ]
  },
  {
   "cell_type": "code",
   "execution_count": 31,
   "id": "affecting-concentration",
   "metadata": {},
   "outputs": [],
   "source": [
    "from sklearn.metrics import mean_squared_error\n",
    "from sklearn.model_selection import train_test_split\n",
    "def plot_learning_curves(model,X,y):\n",
    "    X_train,X_val,y_train,y_val = train_test_split(X,y,test_size=0.2)\n",
    "    train_errors, val_errors = [],[]\n",
    "    for m in range(1,len(X_train)):\n",
    "        model.fit(X_train[:m],y_train[:m])\n",
    "        y_train_predict = model.predict(X_train[:m])\n",
    "        y_val_predict = model.predict(X_val)\n",
    "        \n",
    "        train_errors.append(mean_squared_error(y_train[:m],y_train_predict))\n",
    "        val_errors.append(mean_squared_error(y_val,y_val_predict))\n",
    "    plt.plot(np.sqrt(train_errors),'r-+',linewidth=2,label=\"train\")\n",
    "    plt.plot(np.sqrt(val_errors),'b-',linewidth=3,label=\"val\")\n",
    "    plt.ylabel(\"RMSE\")\n",
    "    plt.ylim([0,3])\n",
    "    plt.xlabel(\"Training set size\")\n",
    "    plt.legend()"
   ]
  },
  {
   "cell_type": "code",
   "execution_count": 32,
   "id": "exposed-constant",
   "metadata": {},
   "outputs": [],
   "source": [
    "lin_reg= LinearRegression()"
   ]
  },
  {
   "cell_type": "code",
   "execution_count": 33,
   "id": "alternate-aging",
   "metadata": {},
   "outputs": [
    {
     "data": {
      "image/png": "[encoded data removed]",
      "text/plain": [
       "<Figure size 432x288 with 1 Axes>"
      ]
     },
     "metadata": {
      "needs_background": "light"
     },
     "output_type": "display_data"
    }
   ],
   "source": [
    "plot_learning_curves(lin_reg,X,y)"
   ]
  },
  {
   "cell_type": "markdown",
   "id": "ranking-editing",
   "metadata": {},
   "source": [
    "Một mô hình nó underfiting này đáng được giải thích. Đầu tiên, nhìn vào hiệu suất của **train**, khi chỉ có 1 hoặc nhiều phần tử trong training set, model có thể fit nó rất tốt, đó là tại sao đường lại bắt đàu từ 0, Nhưng vì nhiều instances để thêm vào cái tập huấn luyện nó chởi nên khó fit hơn, vì vậy Error sẽ tăng lên khi đạt sự ổn định.\n",
    "\n",
    "\n",
    "Bâu giờ cùng nhìn vào hiệu suất của model Vlidation, Khi model đang huấn luyện trên ít dữ liệu , nó không có khả năng hoá đúng cách. đó là lý do tại sao lỗi ban đầu khá lớn, sau khi nhiều thì nó sẽ học rần và giảm xuống. "
   ]
  },
  {
   "cell_type": "markdown",
   "id": "marine-buying",
   "metadata": {},
   "source": [
    "Những đường cong học tập này là điển hình của một mô hình phù hợp. Cả hai đường cong đều đạt đến một bình nguyên; chúng gần và khá cao."
   ]
  },
  {
   "cell_type": "markdown",
   "id": "accessory-blame",
   "metadata": {},
   "source": [
    "**Bây giờ cùing nhìn vào đường cong khi 10th-degree model trên cùng 1 tập dữ liệu**"
   ]
  },
  {
   "cell_type": "code",
   "execution_count": 36,
   "id": "velvet-reality",
   "metadata": {},
   "outputs": [],
   "source": [
    "from sklearn.pipeline import Pipeline\n",
    "from sklearn.preprocessing import PolynomialFeatures\n",
    "polynomial_regression = Pipeline([\n",
    "    (\"poly_features\", PolynomialFeatures(degree=10,include_bias = False)),\n",
    "    (\"lin_reg\",LinearRegression())\n",
    "])"
   ]
  },
  {
   "cell_type": "code",
   "execution_count": 37,
   "id": "portable-caution",
   "metadata": {},
   "outputs": [
    {
     "data": {
      "image/png": "[encoded data removed]",
      "text/plain": [
       "<Figure size 432x288 with 1 Axes>"
      ]
     },
     "metadata": {
      "needs_background": "light"
     },
     "output_type": "display_data"
    }
   ],
   "source": [
    "plot_learning_curves(polynomial_regression,X,y)"
   ]
  },
  {
   "cell_type": "markdown",
   "id": "daily-installation",
   "metadata": {},
   "source": [
    "Đường này trông giống 1 chút cái trước, nhưng nó 2 sự khác biệt lớn nhất ở đây \n",
    "\n",
    "1. Lỗi trên training data sẽ thấp hớp với Linear Regression model\n",
    "\n",
    "2. Có một khoảng trống giữa các đường cong. Điều này có nghĩa là mô hình hoạt động tốt hơn đáng kể trên dữ liệu đào tạo so với dữ liệu xác thực, đây là dấu hiệu của một mô hình overfitting. Tuy nhiên, nếu bạn sử dụng một bộ luyện tập lớn hơn nhiều, hai đường cong sẽ tiếp tục gần nhau hơn. "
   ]
  },
  {
   "cell_type": "markdown",
   "id": "italic-closing",
   "metadata": {},
   "source": [
    "### TIP:  \n",
    "Một ách để cải thiện 1 overfiting model là thêm thật nhiều dữ liệu huấn liện đế khi Vali erro đạt đc training error"
   ]
  },
  {
   "cell_type": "markdown",
   "id": "lightweight-hayes",
   "metadata": {},
   "source": [
    "###  The BIAS/Variance Trade-off"
   ]
  },
  {
   "cell_type": "markdown",
   "id": "bizarre-aluminum",
   "metadata": {},
   "source": [
    "Một kết quả lý thuyết quan trọng của thống kê và Học máy là thực tế rằng lỗi tổng quát hóa của một mô hình có thể được biểu thị bằng tổng của **ba** lỗi rất khác nhau:\n",
    "\n",
    "\n",
    "**Bias**:\n",
    "    Đây là một phần của lỗi tổng quán Là do các giả định sai, chẳng hạn như giả định rằng dữ liệu là tuyến tính khi nó thực sự là bậc hai. Mô hình thiên vị cao có nhiều khả năng làm thiếu dữ liệu đào tạo ”\n",
    "    \n",
    "**Variance**:\n",
    "    Điều này là do độ nhạy quá mức của mô hình đối với các biến thể nhỏ trong dữ liệu đào tạo. Một mô hình có nhiều bậc tự do (chẳng hạn như một mô hình đa thức bậc cao) có khả năng có phương sai cao và do đó trang bị quá nhiều cho dữ liệu huấn luyện .\n",
    "    \n",
    "**Irreducible Error**:\n",
    "    Phần này là do sự ồn ào của chính dữ liệu. Cách duy nhất để giảm phần lỗi này là làm sạch dữ liệu (ví dụ: sửa các nguồn dữ liệu, chẳng hạn như cảm biến bị hỏng hoặc phát hiện và loại bỏ các điểm ngoại lệ). \n",
    "    \n",
    "Tóm lại mỗi giảm 1 trong số cái thì lại tăng 1 số cái lỗi trên"
   ]
  },
  {
   "cell_type": "markdown",
   "id": "unauthorized-behalf",
   "metadata": {},
   "source": [
    "### Regularized Linear Models\n",
    "\n",
    "Như các bác đã thấy ở chương 1 và chương 2.  cách tốt nhất để giảm overfit-ting Là quy định hóa mô hình (tức là hạn chế nó): càng ít bậc tự do, nó càng khó trang bị quá nhiều dữ liệu. Một cách đơn giản để điều chỉnh một mô hình đa thức là giảm số bậc của đa thức.\n",
    "\n",
    "Đối với một mô hình tuyến tính, sự chính quy hóa thường đạt được bằng cách hạn chế các trọng số của mô hình. Bây giờ chúng ta sẽ xem xét hồi quy Ridge, hồi quy Lasso và Elastic Net, thực hiện ba cách khác nhau để hạn chế trọng số. \""
   ]
  },
  {
   "cell_type": "markdown",
   "id": "advanced-table",
   "metadata": {},
   "source": [
    "### Ridge Regression (Tikihonov regularization)"
   ]
  },
  {
   "cell_type": "markdown",
   "id": "finite-sterling",
   "metadata": {},
   "source": [
    "Ridge Regression (có cũng thể gọi là Tikhônv regularization) là một regularized version của hồi quy tuến tình *a regular*"
   ]
  }
 ],
 "metadata": {
  "kernelspec": {
   "display_name": "Python 3",
   "language": "python",
   "name": "python3"
  },
  "language_info": {
   "codemirror_mode": {
    "name": "ipython",
    "version": 3
   },
   "file_extension": ".py",
   "mimetype": "text/x-python",
   "name": "python",
   "nbconvert_exporter": "python",
   "pygments_lexer": "ipython3",
   "version": "3.9.0"
  }
 },
 "nbformat": 4,
 "nbformat_minor": 5
}
